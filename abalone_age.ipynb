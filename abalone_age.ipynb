{
 "cells": [
  {
   "cell_type": "markdown",
   "metadata": {},
   "source": [
    "1. Sex (categoacal): M, F, and I (infant)\n",
    "2. Length (continuous) - Longest shell measurement, mm\n",
    "3. Diameter\t(continuous) - perpendicular to length, mm\n",
    "4. Height (continuous) - with meat in shell, mm\n",
    "5. Whole weight (continuous) - whole abalone, grams\n",
    "6. Shucked weight (continuous) - weight of meat, grams\n",
    "7. Viscera weight (continuous) - gut weight (after bleeding), grams\n",
    "8. Shell weight (continuous) - after being dried, grams\n",
    "9. Rings (integer): +1.5 gives the age in years **TARGET**"
   ]
  },
  {
   "cell_type": "code",
   "execution_count": 1,
   "metadata": {},
   "outputs": [],
   "source": [
    "import numpy as np\n",
    "import pandas as pd\n",
    "import matplotlib.pyplot as plt\n",
    "import seaborn as sns\n",
    "import optuna\n",
    "from sklearn.model_selection import train_test_split, cross_val_score, KFold\n",
    "from sklearn.preprocessing import StandardScaler\n",
    "from sklearn.metrics import mean_squared_log_error, mean_squared_error, r2_score, get_scorer_names\n",
    "from sklearn.linear_model import LinearRegression, Ridge\n",
    "from sklearn.ensemble import RandomForestRegressor, BaggingRegressor, VotingRegressor\n",
    "from catboost import CatBoostRegressor\n",
    "from xgboost import XGBRegressor\n",
    "from lightgbm import LGBMRegressor\n",
    "\n",
    "%matplotlib inline\n",
    "\n",
    "import warnings\n",
    "warnings.filterwarnings(\"ignore\")\n",
    "\n",
    "RANDOM_SEED = 42\n",
    "np.random.seed(RANDOM_SEED)"
   ]
  },
  {
   "cell_type": "markdown",
   "metadata": {},
   "source": [
    "# EDA"
   ]
  },
  {
   "cell_type": "markdown",
   "metadata": {},
   "source": [
    "* **train.csv** - the training dataset; `Rings` is the integer target\n",
    "* **test.csv** - the test dataset; your objective is to predict the value of `Rings` for each row\n",
    "* **sample_submission.csv** - a sample submission file in the correct format\n",
    "\n",
    "Import files as `train` and `test`:"
   ]
  },
  {
   "cell_type": "code",
   "execution_count": 2,
   "metadata": {},
   "outputs": [],
   "source": [
    "test = pd.read_csv('test.csv')\n",
    "train = pd.read_csv('train.csv')\n",
    "original = pd.read_csv('original.csv')"
   ]
  },
  {
   "cell_type": "code",
   "execution_count": 3,
   "metadata": {},
   "outputs": [
    {
     "data": {
      "text/html": [
       "<div>\n",
       "<style scoped>\n",
       "    .dataframe tbody tr th:only-of-type {\n",
       "        vertical-align: middle;\n",
       "    }\n",
       "\n",
       "    .dataframe tbody tr th {\n",
       "        vertical-align: top;\n",
       "    }\n",
       "\n",
       "    .dataframe thead th {\n",
       "        text-align: right;\n",
       "    }\n",
       "</style>\n",
       "<table border=\"1\" class=\"dataframe\">\n",
       "  <thead>\n",
       "    <tr style=\"text-align: right;\">\n",
       "      <th></th>\n",
       "      <th>id</th>\n",
       "      <th>Sex</th>\n",
       "      <th>Length</th>\n",
       "      <th>Diameter</th>\n",
       "      <th>Height</th>\n",
       "      <th>Whole weight</th>\n",
       "      <th>Whole weight.1</th>\n",
       "      <th>Whole weight.2</th>\n",
       "      <th>Shell weight</th>\n",
       "      <th>Rings</th>\n",
       "    </tr>\n",
       "  </thead>\n",
       "  <tbody>\n",
       "    <tr>\n",
       "      <th>90610</th>\n",
       "      <td>90610</td>\n",
       "      <td>M</td>\n",
       "      <td>0.335</td>\n",
       "      <td>0.235</td>\n",
       "      <td>0.075</td>\n",
       "      <td>0.1585</td>\n",
       "      <td>0.0685</td>\n",
       "      <td>0.0370</td>\n",
       "      <td>0.0450</td>\n",
       "      <td>6</td>\n",
       "    </tr>\n",
       "    <tr>\n",
       "      <th>90611</th>\n",
       "      <td>90611</td>\n",
       "      <td>M</td>\n",
       "      <td>0.555</td>\n",
       "      <td>0.425</td>\n",
       "      <td>0.150</td>\n",
       "      <td>0.8790</td>\n",
       "      <td>0.3865</td>\n",
       "      <td>0.1815</td>\n",
       "      <td>0.2400</td>\n",
       "      <td>9</td>\n",
       "    </tr>\n",
       "    <tr>\n",
       "      <th>90612</th>\n",
       "      <td>90612</td>\n",
       "      <td>I</td>\n",
       "      <td>0.435</td>\n",
       "      <td>0.330</td>\n",
       "      <td>0.095</td>\n",
       "      <td>0.3215</td>\n",
       "      <td>0.1510</td>\n",
       "      <td>0.0785</td>\n",
       "      <td>0.0815</td>\n",
       "      <td>6</td>\n",
       "    </tr>\n",
       "    <tr>\n",
       "      <th>90613</th>\n",
       "      <td>90613</td>\n",
       "      <td>I</td>\n",
       "      <td>0.345</td>\n",
       "      <td>0.270</td>\n",
       "      <td>0.075</td>\n",
       "      <td>0.2000</td>\n",
       "      <td>0.0980</td>\n",
       "      <td>0.0490</td>\n",
       "      <td>0.0700</td>\n",
       "      <td>6</td>\n",
       "    </tr>\n",
       "    <tr>\n",
       "      <th>90614</th>\n",
       "      <td>90614</td>\n",
       "      <td>I</td>\n",
       "      <td>0.425</td>\n",
       "      <td>0.325</td>\n",
       "      <td>0.100</td>\n",
       "      <td>0.3455</td>\n",
       "      <td>0.1525</td>\n",
       "      <td>0.0785</td>\n",
       "      <td>0.1050</td>\n",
       "      <td>8</td>\n",
       "    </tr>\n",
       "  </tbody>\n",
       "</table>\n",
       "</div>"
      ],
      "text/plain": [
       "          id Sex  Length  Diameter  Height  Whole weight  Whole weight.1  \\\n",
       "90610  90610   M   0.335     0.235   0.075        0.1585          0.0685   \n",
       "90611  90611   M   0.555     0.425   0.150        0.8790          0.3865   \n",
       "90612  90612   I   0.435     0.330   0.095        0.3215          0.1510   \n",
       "90613  90613   I   0.345     0.270   0.075        0.2000          0.0980   \n",
       "90614  90614   I   0.425     0.325   0.100        0.3455          0.1525   \n",
       "\n",
       "       Whole weight.2  Shell weight  Rings  \n",
       "90610          0.0370        0.0450      6  \n",
       "90611          0.1815        0.2400      9  \n",
       "90612          0.0785        0.0815      6  \n",
       "90613          0.0490        0.0700      6  \n",
       "90614          0.0785        0.1050      8  "
      ]
     },
     "execution_count": 3,
     "metadata": {},
     "output_type": "execute_result"
    }
   ],
   "source": [
    "train.tail()"
   ]
  },
  {
   "cell_type": "code",
   "execution_count": 4,
   "metadata": {},
   "outputs": [
    {
     "data": {
      "text/html": [
       "<div>\n",
       "<style scoped>\n",
       "    .dataframe tbody tr th:only-of-type {\n",
       "        vertical-align: middle;\n",
       "    }\n",
       "\n",
       "    .dataframe tbody tr th {\n",
       "        vertical-align: top;\n",
       "    }\n",
       "\n",
       "    .dataframe thead th {\n",
       "        text-align: right;\n",
       "    }\n",
       "</style>\n",
       "<table border=\"1\" class=\"dataframe\">\n",
       "  <thead>\n",
       "    <tr style=\"text-align: right;\">\n",
       "      <th></th>\n",
       "      <th>id</th>\n",
       "      <th>Sex</th>\n",
       "      <th>Length</th>\n",
       "      <th>Diameter</th>\n",
       "      <th>Height</th>\n",
       "      <th>Whole weight</th>\n",
       "      <th>Whole weight.1</th>\n",
       "      <th>Whole weight.2</th>\n",
       "      <th>Shell weight</th>\n",
       "    </tr>\n",
       "  </thead>\n",
       "  <tbody>\n",
       "    <tr>\n",
       "      <th>60406</th>\n",
       "      <td>151021</td>\n",
       "      <td>I</td>\n",
       "      <td>0.345</td>\n",
       "      <td>0.260</td>\n",
       "      <td>0.085</td>\n",
       "      <td>0.1775</td>\n",
       "      <td>0.0735</td>\n",
       "      <td>0.0265</td>\n",
       "      <td>0.0500</td>\n",
       "    </tr>\n",
       "    <tr>\n",
       "      <th>60407</th>\n",
       "      <td>151022</td>\n",
       "      <td>F</td>\n",
       "      <td>0.525</td>\n",
       "      <td>0.410</td>\n",
       "      <td>0.145</td>\n",
       "      <td>0.8445</td>\n",
       "      <td>0.3885</td>\n",
       "      <td>0.1670</td>\n",
       "      <td>0.2050</td>\n",
       "    </tr>\n",
       "    <tr>\n",
       "      <th>60408</th>\n",
       "      <td>151023</td>\n",
       "      <td>I</td>\n",
       "      <td>0.590</td>\n",
       "      <td>0.440</td>\n",
       "      <td>0.155</td>\n",
       "      <td>1.1220</td>\n",
       "      <td>0.3930</td>\n",
       "      <td>0.2000</td>\n",
       "      <td>0.2650</td>\n",
       "    </tr>\n",
       "    <tr>\n",
       "      <th>60409</th>\n",
       "      <td>151024</td>\n",
       "      <td>F</td>\n",
       "      <td>0.660</td>\n",
       "      <td>0.525</td>\n",
       "      <td>0.190</td>\n",
       "      <td>1.4935</td>\n",
       "      <td>0.5885</td>\n",
       "      <td>0.3575</td>\n",
       "      <td>0.4350</td>\n",
       "    </tr>\n",
       "    <tr>\n",
       "      <th>60410</th>\n",
       "      <td>151025</td>\n",
       "      <td>F</td>\n",
       "      <td>0.430</td>\n",
       "      <td>0.340</td>\n",
       "      <td>0.120</td>\n",
       "      <td>0.4150</td>\n",
       "      <td>0.1525</td>\n",
       "      <td>0.0910</td>\n",
       "      <td>0.0905</td>\n",
       "    </tr>\n",
       "  </tbody>\n",
       "</table>\n",
       "</div>"
      ],
      "text/plain": [
       "           id Sex  Length  Diameter  Height  Whole weight  Whole weight.1  \\\n",
       "60406  151021   I   0.345     0.260   0.085        0.1775          0.0735   \n",
       "60407  151022   F   0.525     0.410   0.145        0.8445          0.3885   \n",
       "60408  151023   I   0.590     0.440   0.155        1.1220          0.3930   \n",
       "60409  151024   F   0.660     0.525   0.190        1.4935          0.5885   \n",
       "60410  151025   F   0.430     0.340   0.120        0.4150          0.1525   \n",
       "\n",
       "       Whole weight.2  Shell weight  \n",
       "60406          0.0265        0.0500  \n",
       "60407          0.1670        0.2050  \n",
       "60408          0.2000        0.2650  \n",
       "60409          0.3575        0.4350  \n",
       "60410          0.0910        0.0905  "
      ]
     },
     "execution_count": 4,
     "metadata": {},
     "output_type": "execute_result"
    }
   ],
   "source": [
    "test.tail()"
   ]
  },
  {
   "cell_type": "code",
   "execution_count": 5,
   "metadata": {},
   "outputs": [
    {
     "data": {
      "text/html": [
       "<div>\n",
       "<style scoped>\n",
       "    .dataframe tbody tr th:only-of-type {\n",
       "        vertical-align: middle;\n",
       "    }\n",
       "\n",
       "    .dataframe tbody tr th {\n",
       "        vertical-align: top;\n",
       "    }\n",
       "\n",
       "    .dataframe thead th {\n",
       "        text-align: right;\n",
       "    }\n",
       "</style>\n",
       "<table border=\"1\" class=\"dataframe\">\n",
       "  <thead>\n",
       "    <tr style=\"text-align: right;\">\n",
       "      <th></th>\n",
       "      <th>id</th>\n",
       "      <th>Sex</th>\n",
       "      <th>Length</th>\n",
       "      <th>Diameter</th>\n",
       "      <th>Height</th>\n",
       "      <th>Whole_weight</th>\n",
       "      <th>Shucked_weight</th>\n",
       "      <th>Viscera_weight</th>\n",
       "      <th>Shell_weight</th>\n",
       "      <th>Rings</th>\n",
       "    </tr>\n",
       "  </thead>\n",
       "  <tbody>\n",
       "    <tr>\n",
       "      <th>4172</th>\n",
       "      <td>4172</td>\n",
       "      <td>F</td>\n",
       "      <td>0.565</td>\n",
       "      <td>0.450</td>\n",
       "      <td>0.165</td>\n",
       "      <td>0.8870</td>\n",
       "      <td>0.3700</td>\n",
       "      <td>0.2390</td>\n",
       "      <td>0.2490</td>\n",
       "      <td>11</td>\n",
       "    </tr>\n",
       "    <tr>\n",
       "      <th>4173</th>\n",
       "      <td>4173</td>\n",
       "      <td>M</td>\n",
       "      <td>0.590</td>\n",
       "      <td>0.440</td>\n",
       "      <td>0.135</td>\n",
       "      <td>0.9660</td>\n",
       "      <td>0.4390</td>\n",
       "      <td>0.2145</td>\n",
       "      <td>0.2605</td>\n",
       "      <td>10</td>\n",
       "    </tr>\n",
       "    <tr>\n",
       "      <th>4174</th>\n",
       "      <td>4174</td>\n",
       "      <td>M</td>\n",
       "      <td>0.600</td>\n",
       "      <td>0.475</td>\n",
       "      <td>0.205</td>\n",
       "      <td>1.1760</td>\n",
       "      <td>0.5255</td>\n",
       "      <td>0.2875</td>\n",
       "      <td>0.3080</td>\n",
       "      <td>9</td>\n",
       "    </tr>\n",
       "    <tr>\n",
       "      <th>4175</th>\n",
       "      <td>4175</td>\n",
       "      <td>F</td>\n",
       "      <td>0.625</td>\n",
       "      <td>0.485</td>\n",
       "      <td>0.150</td>\n",
       "      <td>1.0945</td>\n",
       "      <td>0.5310</td>\n",
       "      <td>0.2610</td>\n",
       "      <td>0.2960</td>\n",
       "      <td>10</td>\n",
       "    </tr>\n",
       "    <tr>\n",
       "      <th>4176</th>\n",
       "      <td>4176</td>\n",
       "      <td>M</td>\n",
       "      <td>0.710</td>\n",
       "      <td>0.555</td>\n",
       "      <td>0.195</td>\n",
       "      <td>1.9485</td>\n",
       "      <td>0.9455</td>\n",
       "      <td>0.3765</td>\n",
       "      <td>0.4950</td>\n",
       "      <td>12</td>\n",
       "    </tr>\n",
       "  </tbody>\n",
       "</table>\n",
       "</div>"
      ],
      "text/plain": [
       "        id Sex  Length  Diameter  Height  Whole_weight  Shucked_weight  \\\n",
       "4172  4172   F   0.565     0.450   0.165        0.8870          0.3700   \n",
       "4173  4173   M   0.590     0.440   0.135        0.9660          0.4390   \n",
       "4174  4174   M   0.600     0.475   0.205        1.1760          0.5255   \n",
       "4175  4175   F   0.625     0.485   0.150        1.0945          0.5310   \n",
       "4176  4176   M   0.710     0.555   0.195        1.9485          0.9455   \n",
       "\n",
       "      Viscera_weight  Shell_weight  Rings  \n",
       "4172          0.2390        0.2490     11  \n",
       "4173          0.2145        0.2605     10  \n",
       "4174          0.2875        0.3080      9  \n",
       "4175          0.2610        0.2960     10  \n",
       "4176          0.3765        0.4950     12  "
      ]
     },
     "execution_count": 5,
     "metadata": {},
     "output_type": "execute_result"
    }
   ],
   "source": [
    "original.tail()"
   ]
  },
  {
   "cell_type": "markdown",
   "metadata": {},
   "source": [
    "Rename columns like an original data:"
   ]
  },
  {
   "cell_type": "code",
   "execution_count": 6,
   "metadata": {},
   "outputs": [],
   "source": [
    "column_names = ['id', 'Sex', 'Length', 'Diameter', 'Height', 'Whole_weight',\n",
    "                'Shucked_weight', 'Viscera_weight', 'Shell_weight', 'Rings']\n",
    "train.columns = column_names\n",
    "test.columns  = column_names[:-1]"
   ]
  },
  {
   "cell_type": "code",
   "execution_count": 7,
   "metadata": {},
   "outputs": [],
   "source": [
    "train = pd.concat([train, original], axis=0, ignore_index=True).reset_index()\n",
    "train.drop(['id', 'index'], axis=1, inplace=True)"
   ]
  },
  {
   "cell_type": "code",
   "execution_count": 8,
   "metadata": {},
   "outputs": [
    {
     "name": "stdout",
     "output_type": "stream",
     "text": [
      "<class 'pandas.core.frame.DataFrame'>\n",
      "RangeIndex: 94792 entries, 0 to 94791\n",
      "Data columns (total 9 columns):\n",
      " #   Column          Non-Null Count  Dtype  \n",
      "---  ------          --------------  -----  \n",
      " 0   Sex             94792 non-null  object \n",
      " 1   Length          94792 non-null  float64\n",
      " 2   Diameter        94792 non-null  float64\n",
      " 3   Height          94792 non-null  float64\n",
      " 4   Whole_weight    94792 non-null  float64\n",
      " 5   Shucked_weight  94792 non-null  float64\n",
      " 6   Viscera_weight  94792 non-null  float64\n",
      " 7   Shell_weight    94792 non-null  float64\n",
      " 8   Rings           94792 non-null  int64  \n",
      "dtypes: float64(7), int64(1), object(1)\n",
      "memory usage: 6.5+ MB\n"
     ]
    }
   ],
   "source": [
    "train.info()"
   ]
  },
  {
   "cell_type": "markdown",
   "metadata": {},
   "source": [
    "## Distribution of features"
   ]
  },
  {
   "cell_type": "code",
   "execution_count": 9,
   "metadata": {},
   "outputs": [],
   "source": [
    "data = train.copy()"
   ]
  },
  {
   "cell_type": "code",
   "execution_count": 10,
   "metadata": {},
   "outputs": [
    {
     "data": {
      "image/png": "[encoded data removed]",
      "text/plain": [
       "<Figure size 640x480 with 1 Axes>"
      ]
     },
     "metadata": {},
     "output_type": "display_data"
    }
   ],
   "source": [
    "plt.pie(data['Sex'].value_counts(),\n",
    "        autopct='%1.1f%%',\n",
    "        labels=['Female', 'Infant', 'Male'],\n",
    "        colors=['#f0a1a1', '#b2d9b6', '#a9a8e3'])\n",
    "plt.title('Distribution of Sex')\n",
    "\n",
    "plt.show()"
   ]
  },
  {
   "cell_type": "code",
   "execution_count": 11,
   "metadata": {},
   "outputs": [
    {
     "data": {
      "image/png": "[encoded data removed]",
      "text/plain": [
       "<Figure size 1000x500 with 1 Axes>"
      ]
     },
     "metadata": {},
     "output_type": "display_data"
    }
   ],
   "source": [
    "plt.figure(figsize=(10, 5))\n",
    "\n",
    "sns.countplot(data=data,\n",
    "              x='Rings',\n",
    "              hue='Sex',\n",
    "              palette=['#a9a8e3', '#b2d9b6', '#f0a1a1'])\n",
    "\n",
    "plt.tight_layout()\n",
    "plt.show()"
   ]
  },
  {
   "cell_type": "code",
   "execution_count": 12,
   "metadata": {},
   "outputs": [
    {
     "data": {
      "image/png": "[encoded data removed]",
      "text/plain": [
       "<Figure size 1500x700 with 8 Axes>"
      ]
     },
     "metadata": {},
     "output_type": "display_data"
    }
   ],
   "source": [
    "sex = data.columns[0]\n",
    "features = data.drop(['Sex'], axis=1).columns\n",
    "\n",
    "plt.figure(figsize=(15, 7))\n",
    "\n",
    "for i, col in enumerate(data.columns[1:]):\n",
    "\n",
    "    plt.subplot(2, 4, i+1).set_title(col)\n",
    "\n",
    "    x_col = data[features[i]].values\n",
    "    y_col = data[sex].values\n",
    "\n",
    "    plt.hist(x_col[y_col == 'I'], label='Infant', color='green', alpha=0.3,  bins=25)\n",
    "    plt.hist(x_col[y_col == 'F'], label='Female', color='red', alpha=0.3,  bins=25)\n",
    "    plt.hist(x_col[y_col == 'M'], label='Male', color='blue', alpha=0.3,  bins=25)\n",
    "\n",
    "    plt.ylabel('Counts')\n",
    "    plt.legend(loc='best')\n",
    "\n",
    "plt.tight_layout()\n",
    "plt.show()"
   ]
  },
  {
   "cell_type": "markdown",
   "metadata": {},
   "source": [
    "## Encode `Sex`"
   ]
  },
  {
   "cell_type": "markdown",
   "metadata": {},
   "source": [
    "Encode the `Sex` feature to make all our features numerical."
   ]
  },
  {
   "cell_type": "code",
   "execution_count": 13,
   "metadata": {},
   "outputs": [],
   "source": [
    "train['Sex'] = train['Sex'].replace({'I': 1,\n",
    "                                     'F': 2,\n",
    "                                     'M': 3})\n",
    "\n",
    "test['Sex'] = test['Sex'].replace({'I': 1,\n",
    "                                   'F': 2,\n",
    "                                   'M': 3})"
   ]
  },
  {
   "cell_type": "markdown",
   "metadata": {},
   "source": [
    "## Correlation"
   ]
  },
  {
   "cell_type": "code",
   "execution_count": 14,
   "metadata": {},
   "outputs": [
    {
     "data": {
      "image/png": "[encoded data removed]",
      "text/plain": [
       "<Figure size 800x600 with 2 Axes>"
      ]
     },
     "metadata": {},
     "output_type": "display_data"
    }
   ],
   "source": [
    "plt.figure(figsize=[8, 6])\n",
    "sns.heatmap(train.corr(), annot=True , fmt='.2f', annot_kws={\"fontsize\": 8},\n",
    "            linewidths=0.25, center=0.6, cmap='coolwarm', square=True)\n",
    "\n",
    "plt.tight_layout()\n",
    "plt.show()"
   ]
  },
  {
   "cell_type": "markdown",
   "metadata": {},
   "source": [
    "Very high correlation between the features."
   ]
  },
  {
   "cell_type": "markdown",
   "metadata": {},
   "source": [
    "# Models"
   ]
  },
  {
   "cell_type": "markdown",
   "metadata": {},
   "source": [
    "Root mean squared log error:"
   ]
  },
  {
   "cell_type": "code",
   "execution_count": 15,
   "metadata": {},
   "outputs": [],
   "source": [
    "def rmsle(y_true, y_pred):\n",
    "    rmsle = np.sqrt(mean_squared_log_error(y_true, y_pred))\n",
    "    return rmsle"
   ]
  },
  {
   "cell_type": "markdown",
   "metadata": {},
   "source": [
    "Split train data. Log transformation for the target feature `Rings` - Root Mean Squared Logarithmic Error can't be counted when targets contain negative values."
   ]
  },
  {
   "cell_type": "code",
   "execution_count": 16,
   "metadata": {},
   "outputs": [],
   "source": [
    "y = train['Rings']\n",
    "y_log = np.log(1+y)\n",
    "X = train.drop('Rings', axis=1)"
   ]
  },
  {
   "cell_type": "code",
   "execution_count": 17,
   "metadata": {},
   "outputs": [
    {
     "data": {
      "text/plain": [
       "((66354, 8), (28438, 8), (66354,), (28438,))"
      ]
     },
     "execution_count": 17,
     "metadata": {},
     "output_type": "execute_result"
    }
   ],
   "source": [
    "X_train, X_test, y_train, y_test = train_test_split(X, y_log, test_size=0.30,\n",
    "                                                    stratify=train['Sex'],\n",
    "                                                    random_state=RANDOM_SEED)\n",
    "\n",
    "X_train.shape, X_test.shape, y_train.shape, y_test.shape"
   ]
  },
  {
   "cell_type": "code",
   "execution_count": 18,
   "metadata": {},
   "outputs": [],
   "source": [
    "scaler = StandardScaler()\n",
    "X_train = scaler.fit_transform(X_train)\n",
    "X_test = scaler.transform(X_test)"
   ]
  },
  {
   "cell_type": "markdown",
   "metadata": {},
   "source": [
    "## Default model parameters"
   ]
  },
  {
   "cell_type": "code",
   "execution_count": 19,
   "metadata": {},
   "outputs": [],
   "source": [
    "def model(method, X_train, X_test, y_train, y_test, random_state=RANDOM_SEED):  \n",
    "    model = method\n",
    "    model.fit(X_train, y_train)\n",
    "    \n",
    "    y_train_pred = model.predict(X_train)\n",
    "    y_test_pred = model.predict(X_test)\n",
    "\n",
    "    train_RMSLE = rmsle(y_true=y_train, y_pred=y_train_pred)\n",
    "    test_RMSLE = rmsle(y_true=y_test, y_pred=y_test_pred)\n",
    "    test_r2_score = r2_score(y_true=y_test, y_pred=y_test_pred)\n",
    "\n",
    "    return train_RMSLE, test_RMSLE, np.round(test_r2_score, 6)"
   ]
  },
  {
   "cell_type": "code",
   "execution_count": 20,
   "metadata": {},
   "outputs": [],
   "source": [
    "def report(model, name):\n",
    "    report = pd.DataFrame({'Train RMSLE': model[0],\n",
    "                           'Test RMSLE': model[1],\n",
    "                           'Test R2': model[2]},\n",
    "                           index=[name])\n",
    "    return report"
   ]
  },
  {
   "cell_type": "code",
   "execution_count": 21,
   "metadata": {},
   "outputs": [],
   "source": [
    "lin = report(model(LinearRegression(),\n",
    "                   X_train, X_test, y_train, y_test),\n",
    "                   'Linear Regression')\n",
    "ridge = report(model(Ridge(),\n",
    "                     X_train, X_test, y_train, y_test),\n",
    "                     'Ridge Regression')\n",
    "forest = report(model(RandomForestRegressor(),\n",
    "                     X_train, X_test, y_train, y_test),\n",
    "                     'Random Forest Regression')\n",
    "bagging = report(model(BaggingRegressor(),\n",
    "                       X_train, X_test, y_train, y_test),\n",
    "                       'Bagging Regression')\n",
    "xgb = report(model(XGBRegressor(),\n",
    "                   X_train, X_test, y_train, y_test),\n",
    "                   'XGBoost Regression')\n",
    "lgbm = report(model(LGBMRegressor(verbose=0),\n",
    "                    X_train, X_test, y_train, y_test),\n",
    "                    'LightGBM Regression')\n",
    "cat = report(model(CatBoostRegressor(verbose=0),\n",
    "                   X_train, X_test, y_train, y_test),\n",
    "                   'CatBoost Regression')"
   ]
  },
  {
   "cell_type": "code",
   "execution_count": 22,
   "metadata": {},
   "outputs": [
    {
     "data": {
      "text/html": [
       "<div>\n",
       "<style scoped>\n",
       "    .dataframe tbody tr th:only-of-type {\n",
       "        vertical-align: middle;\n",
       "    }\n",
       "\n",
       "    .dataframe tbody tr th {\n",
       "        vertical-align: top;\n",
       "    }\n",
       "\n",
       "    .dataframe thead th {\n",
       "        text-align: right;\n",
       "    }\n",
       "</style>\n",
       "<table border=\"1\" class=\"dataframe\">\n",
       "  <thead>\n",
       "    <tr style=\"text-align: right;\">\n",
       "      <th></th>\n",
       "      <th>Train RMSLE</th>\n",
       "      <th>Test RMSLE</th>\n",
       "      <th>Test R2</th>\n",
       "    </tr>\n",
       "  </thead>\n",
       "  <tbody>\n",
       "    <tr>\n",
       "      <th>Linear Regression</th>\n",
       "      <td>0.049806</td>\n",
       "      <td>0.049200</td>\n",
       "      <td>0.667240</td>\n",
       "    </tr>\n",
       "    <tr>\n",
       "      <th>Ridge Regression</th>\n",
       "      <td>0.049806</td>\n",
       "      <td>0.049200</td>\n",
       "      <td>0.667239</td>\n",
       "    </tr>\n",
       "    <tr>\n",
       "      <th>Random Forest Regression</th>\n",
       "      <td>0.017691</td>\n",
       "      <td>0.045806</td>\n",
       "      <td>0.716091</td>\n",
       "    </tr>\n",
       "    <tr>\n",
       "      <th>Bagging Regression</th>\n",
       "      <td>0.020856</td>\n",
       "      <td>0.047807</td>\n",
       "      <td>0.690532</td>\n",
       "    </tr>\n",
       "    <tr>\n",
       "      <th>XGBoost Regression</th>\n",
       "      <td>0.041198</td>\n",
       "      <td>0.045048</td>\n",
       "      <td>0.724207</td>\n",
       "    </tr>\n",
       "    <tr>\n",
       "      <th>LightGBM Regression</th>\n",
       "      <td>0.044126</td>\n",
       "      <td>0.044750</td>\n",
       "      <td>0.727181</td>\n",
       "    </tr>\n",
       "    <tr>\n",
       "      <th>CatBoost Regression</th>\n",
       "      <td>0.042644</td>\n",
       "      <td>0.044591</td>\n",
       "      <td>0.730209</td>\n",
       "    </tr>\n",
       "  </tbody>\n",
       "</table>\n",
       "</div>"
      ],
      "text/plain": [
       "                          Train RMSLE  Test RMSLE   Test R2\n",
       "Linear Regression            0.049806    0.049200  0.667240\n",
       "Ridge Regression             0.049806    0.049200  0.667239\n",
       "Random Forest Regression     0.017691    0.045806  0.716091\n",
       "Bagging Regression           0.020856    0.047807  0.690532\n",
       "XGBoost Regression           0.041198    0.045048  0.724207\n",
       "LightGBM Regression          0.044126    0.044750  0.727181\n",
       "CatBoost Regression          0.042644    0.044591  0.730209"
      ]
     },
     "execution_count": 22,
     "metadata": {},
     "output_type": "execute_result"
    }
   ],
   "source": [
    "report_df = pd.concat([lin, ridge, forest, bagging, xgb, lgbm, cat], axis=0)\n",
    "report_df"
   ]
  },
  {
   "cell_type": "markdown",
   "metadata": {},
   "source": [
    "CatBoost Regression with default parameters shows best metrics on train data."
   ]
  },
  {
   "cell_type": "markdown",
   "metadata": {},
   "source": [
    "## CatBoost tuning"
   ]
  },
  {
   "cell_type": "code",
   "execution_count": 23,
   "metadata": {},
   "outputs": [
    {
     "data": {
      "text/plain": [
       "0.1485622050172975"
      ]
     },
     "execution_count": 23,
     "metadata": {},
     "output_type": "execute_result"
    }
   ],
   "source": [
    "cat_model = CatBoostRegressor(random_seed=RANDOM_SEED, verbose=0)\n",
    "cat_model.fit(X_train, y_train)\n",
    "\n",
    "y_test_cat = cat_model.predict(X_test)\n",
    "\n",
    "np.sqrt(mean_squared_error(y_true=y_test, y_pred=y_test_cat))"
   ]
  },
  {
   "cell_type": "markdown",
   "metadata": {},
   "source": [
    "### Setup Optuna:"
   ]
  },
  {
   "cell_type": "code",
   "execution_count": 24,
   "metadata": {},
   "outputs": [],
   "source": [
    "# def objective_cat(trial, random_seed_mult):\n",
    "    \n",
    "#     params = {'iterations': trial.suggest_int('iterations', 1000, 3000),\n",
    "#               'learning_rate': trial.suggest_loguniform('learning_rate', 0.01, 0.5),\n",
    "#               'subsample': trial.suggest_float('subsample', 0.5, 1.0),\n",
    "#               'depth': trial.suggest_int('depth', 1, 10),\n",
    "#               'border_count': trial.suggest_int('border_count', 200, 255),\n",
    "#               'l2_leaf_reg': trial.suggest_loguniform('l2_leaf_reg', 1, 100),\n",
    "#               'colsample_bylevel': trial.suggest_float('colsample_bylevel', 0.1, 1.0),\n",
    "#               'task_type': 'CPU',\n",
    "#               'random_seed': RANDOM_SEED * random_seed_mult,\n",
    "#               'loss_function':'RMSE'}\n",
    "\n",
    "#     cat_model = CatBoostRegressor(**params, verbose=0)\n",
    "#     cv = KFold(n_splits=10, shuffle=True, random_state=RANDOM_SEED * random_seed_mult)\n",
    "#     score = cross_val_score(cat_model, X_train, y_train, cv=cv, n_jobs=-1,\n",
    "#                             scoring='neg_root_mean_squared_error')\n",
    "#     return -np.mean(score)\n",
    "\n",
    "# study_params = [(0, 'minimize'),\n",
    "#                 (1, 'minimize'),\n",
    "#                 (2, 'minimize')]\n",
    "# best_params_cat1 = {}\n",
    "# best_params_cat2 = {}\n",
    "# best_params_cat3 = {}\n",
    "\n",
    "# for i, direction in study_params:\n",
    "#     study_cat = optuna.create_study(direction=direction,\n",
    "#                                     sampler=optuna.samplers.TPESampler(seed=RANDOM_SEED * i,\n",
    "#                                                                        n_startup_trials=20,\n",
    "#                                                                        multivariate=True),\n",
    "#                                     study_name=f'optuna_cat{i + 1}')\n",
    "#     study_cat.optimize(lambda trial: objective_cat(trial, i), n_trials=100, n_jobs=-1)\n",
    "#     best_params = study_cat.best_params\n",
    "#     if i == 0:\n",
    "#         best_params_cat1 = best_params\n",
    "#     elif i == 1:\n",
    "#         best_params_cat2 = best_params\n",
    "#     elif i == 2:\n",
    "#         best_params_cat3 = best_params"
   ]
  },
  {
   "cell_type": "code",
   "execution_count": 25,
   "metadata": {},
   "outputs": [],
   "source": [
    "# print(f'best_params_cat1 = {best_params_cat1}')\n",
    "# print(f'best_params_cat2 = {best_params_cat2}')\n",
    "# print(f'best_params_cat3 = {best_params_cat3}')"
   ]
  },
  {
   "cell_type": "code",
   "execution_count": 26,
   "metadata": {},
   "outputs": [],
   "source": [
    "best_params_cat1 = {'iterations': 2990,\n",
    "                    'learning_rate': 0.048584273949650675,\n",
    "                    'subsample': 0.693274117805803,\n",
    "                    'depth': 8,\n",
    "                    'border_count': 244,\n",
    "                    'l2_leaf_reg': 22.537869410465802,\n",
    "                    'colsample_bylevel': 0.6109035593934417}"
   ]
  },
  {
   "cell_type": "code",
   "execution_count": 27,
   "metadata": {},
   "outputs": [],
   "source": [
    "best_params_cat2 = {'iterations': 2051,\n",
    "                    'learning_rate': 0.03651491640406216,\n",
    "                    'subsample': 0.933009278687344,\n",
    "                    'depth': 7,\n",
    "                    'border_count': 218,\n",
    "                    'l2_leaf_reg': 3.3853780974941112,\n",
    "                    'colsample_bylevel': 0.7216684743809507}"
   ]
  },
  {
   "cell_type": "code",
   "execution_count": 28,
   "metadata": {},
   "outputs": [],
   "source": [
    "best_params_cat3 = {'iterations': 2759,\n",
    "                    'learning_rate': 0.031936044406497624,\n",
    "                    'subsample': 0.9133895908066452,\n",
    "                    'depth': 7,\n",
    "                    'border_count': 245,\n",
    "                    'l2_leaf_reg': 2.173570372531028,\n",
    "                    'colsample_bylevel': 0.8120853544334358}"
   ]
  },
  {
   "cell_type": "markdown",
   "metadata": {},
   "source": [
    "### Fit:"
   ]
  },
  {
   "cell_type": "code",
   "execution_count": 29,
   "metadata": {},
   "outputs": [
    {
     "name": "stdout",
     "output_type": "stream",
     "text": [
      "Fitted\n"
     ]
    }
   ],
   "source": [
    "cat1_model = CatBoostRegressor(**best_params_cat1, verbose=False)\n",
    "cat1_model.fit(X_train, y_train)\n",
    "\n",
    "cat2_model = CatBoostRegressor(**best_params_cat2, verbose=False)\n",
    "cat2_model.fit(X_train, y_train)\n",
    "\n",
    "cat3_model = CatBoostRegressor(**best_params_cat3, verbose=False)\n",
    "cat3_model.fit(X_train, y_train)\n",
    "\n",
    "print('Fitted')"
   ]
  },
  {
   "cell_type": "markdown",
   "metadata": {},
   "source": [
    "## LightGBM tuning"
   ]
  },
  {
   "cell_type": "code",
   "execution_count": 30,
   "metadata": {},
   "outputs": [
    {
     "data": {
      "text/plain": [
       "0.14930427288162826"
      ]
     },
     "execution_count": 30,
     "metadata": {},
     "output_type": "execute_result"
    }
   ],
   "source": [
    "lgbm_model = LGBMRegressor(random_state=RANDOM_SEED, verbose=0)\n",
    "lgbm_model.fit(X_train, y_train)\n",
    "\n",
    "y_test_lgbm = lgbm_model.predict(X_test)\n",
    "\n",
    "np.sqrt(mean_squared_error(y_true=y_test, y_pred=y_test_lgbm))"
   ]
  },
  {
   "cell_type": "markdown",
   "metadata": {},
   "source": [
    "### Setup Optuna:"
   ]
  },
  {
   "cell_type": "code",
   "execution_count": 31,
   "metadata": {},
   "outputs": [],
   "source": [
    "# def objective_lgbm(trial, random_seed_mult):\n",
    "#     params = {'n_estimators': trial.suggest_int('n_estimators', 100, 3000),\n",
    "#               'learning_rate': trial.suggest_loguniform('learning_rate', 0.01, 1.0),\n",
    "#               'subsample': trial.suggest_float('subsample', 0.1, 1.0),\n",
    "#               'max_depth': trial.suggest_int('max_depth', -1, 16),\n",
    "#               'num_leaves': trial.suggest_int('num_leaves', 2, 256),\n",
    "#               'colsample_bytree': trial.suggest_float('colsample_bytree', 0.1, 1.0),\n",
    "#               'reg_alpha': trial.suggest_uniform('reg_alpha', 0.0, 100.0),\n",
    "#               'reg_lambda': trial.suggest_uniform('reg_lambda', 0.0, 100),\n",
    "#               'random_state': RANDOM_SEED * random_seed_mult,\n",
    "#               'n_jobs': -1,\n",
    "#               'metric':'rmse',\n",
    "#               'objective': 'regression'}\n",
    "\n",
    "#     lgbm_model = LGBMRegressor(**params)\n",
    "#     cv = KFold(n_splits=10, shuffle=True, random_state=RANDOM_SEED * random_seed_mult)\n",
    "#     score = cross_val_score(lgbm_model, X_train, y_train, cv=cv, n_jobs=-1,\n",
    "#                             scoring='neg_root_mean_squared_error')\n",
    "#     return -np.mean(score)\n",
    "\n",
    "# study_params = [(0, 'minimize'),\n",
    "#                 (1, 'minimize'),\n",
    "#                 (2, 'minimize')]\n",
    "# best_params_lgbm1 = {}\n",
    "# best_params_lgbm2 = {}\n",
    "# best_params_lgbm3 = {}\n",
    "\n",
    "# for i, direction in study_params:\n",
    "#     study_lgbm = optuna.create_study(direction=direction,\n",
    "#                                      sampler=optuna.samplers.TPESampler(seed=RANDOM_SEED * i,\n",
    "#                                                                         n_startup_trials=20,\n",
    "#                                                                         multivariate=True),\n",
    "#                                      study_name=f'optuna_lgbm{i + 1}')\n",
    "#     study_lgbm.optimize(lambda trial: objective_lgbm(trial, i), n_trials=100, n_jobs=-1)\n",
    "#     best_params = study_lgbm.best_params\n",
    "#     if i == 0:\n",
    "#         best_params_lgbm1 = best_params\n",
    "#     elif i == 1:\n",
    "#         best_params_lgbm2 = best_params\n",
    "#     elif i == 2:\n",
    "#         best_params_lgbm3 = best_params"
   ]
  },
  {
   "cell_type": "code",
   "execution_count": 32,
   "metadata": {},
   "outputs": [],
   "source": [
    "# print(f'best_params_lgbm1 = {best_params_lgbm1}')\n",
    "# print(f'best_params_lgbm2 = {best_params_lgbm2}')\n",
    "# print(f'best_params_lgbm3 = {best_params_lgbm3}')"
   ]
  },
  {
   "cell_type": "code",
   "execution_count": 33,
   "metadata": {},
   "outputs": [],
   "source": [
    "best_params_lgbm1 = {'n_estimators': 2678,\n",
    "                     'learning_rate': 0.09022305021868901,\n",
    "                     'subsample': 0.2539522467890303,\n",
    "                     'max_depth': 14,\n",
    "                     'num_leaves': 8,\n",
    "                     'colsample_bytree': 0.9386112629191288,\n",
    "                     'reg_alpha': 1.8264448933490005,\n",
    "                     'reg_lambda': 33.209764960046115}"
   ]
  },
  {
   "cell_type": "code",
   "execution_count": 34,
   "metadata": {},
   "outputs": [],
   "source": [
    "best_params_lgbm2 = {'n_estimators': 1917,\n",
    "                     'learning_rate': 0.03295212598163628,\n",
    "                     'subsample': 0.800674115252639,\n",
    "                     'max_depth': 6,\n",
    "                     'num_leaves': 204,\n",
    "                     'colsample_bytree': 0.581857652731719,\n",
    "                     'reg_alpha': 0.3891969747400461,\n",
    "                     'reg_lambda': 23.88663443803604}"
   ]
  },
  {
   "cell_type": "code",
   "execution_count": 35,
   "metadata": {},
   "outputs": [],
   "source": [
    "best_params_lgbm3 = {'n_estimators': 1627,\n",
    "                     'learning_rate': 0.014229199861734208,\n",
    "                     'subsample': 0.29708433790119104,\n",
    "                     'max_depth': 10,\n",
    "                     'num_leaves': 235,\n",
    "                     'colsample_bytree': 0.6520304312744272,\n",
    "                     'reg_alpha': 1.3969814084577226,\n",
    "                     'reg_lambda': 12.593313889017155}"
   ]
  },
  {
   "cell_type": "markdown",
   "metadata": {},
   "source": [
    "### Fit:"
   ]
  },
  {
   "cell_type": "code",
   "execution_count": 36,
   "metadata": {},
   "outputs": [
    {
     "name": "stdout",
     "output_type": "stream",
     "text": [
      "Fitted\n"
     ]
    }
   ],
   "source": [
    "lgbm1_model = LGBMRegressor(**best_params_lgbm1, verbose=-1)\n",
    "lgbm1_model.fit(X_train, y_train)\n",
    "\n",
    "lgbm2_model = LGBMRegressor(**best_params_lgbm2, verbose=-1)\n",
    "lgbm2_model.fit(X_train, y_train)\n",
    "\n",
    "lgbm3_model = LGBMRegressor(**best_params_lgbm3, verbose=-1)\n",
    "lgbm3_model.fit(X_train, y_train)\n",
    "\n",
    "print('Fitted')"
   ]
  },
  {
   "cell_type": "markdown",
   "metadata": {},
   "source": [
    "## XGB tuning"
   ]
  },
  {
   "cell_type": "code",
   "execution_count": 37,
   "metadata": {},
   "outputs": [
    {
     "data": {
      "text/plain": [
       "0.15011568858720079"
      ]
     },
     "execution_count": 37,
     "metadata": {},
     "output_type": "execute_result"
    }
   ],
   "source": [
    "xgb_model = XGBRegressor(seed=RANDOM_SEED)\n",
    "xgb_model.fit(X_train, y_train)\n",
    "\n",
    "y_test_xgb = xgb_model.predict(X_test)\n",
    "\n",
    "np.sqrt(mean_squared_error(y_true=y_test, y_pred=y_test_xgb))"
   ]
  },
  {
   "cell_type": "markdown",
   "metadata": {},
   "source": [
    "### Setup Optuna:"
   ]
  },
  {
   "cell_type": "code",
   "execution_count": 38,
   "metadata": {},
   "outputs": [],
   "source": [
    "# def objective_xgb(trial, random_seed_mult):\n",
    "#     params = {'n_estimators': trial.suggest_int('n_estimators', 100, 3000),\n",
    "#               'learning_rate': trial.suggest_loguniform('learning_rate', 0.01, 1.0),\n",
    "#               'gamma': trial.suggest_float('gamma', 0.0, 0.5),\n",
    "#               'subsample': trial.suggest_float('subsample', 0.1, 1.0),\n",
    "#               'max_depth': trial.suggest_int('max_depth', 1, 16),\n",
    "#               'colsample_bytree': trial.suggest_float('colsample_bytree', 0.1, 1.0),\n",
    "#               'min_child_weight': trial.suggest_int('min_child_weight', 1, 7),\n",
    "#               'random_state': RANDOM_SEED,\n",
    "#               'n_jobs': -1,\n",
    "#               'eval_metric': 'rmse',\n",
    "#               'objective': 'reg:squarederror'}\n",
    "\n",
    "#     xgb_model = XGBRegressor(**params)\n",
    "#     cv = KFold(n_splits=10, shuffle=True, random_state=RANDOM_SEED * random_seed_mult)\n",
    "#     score = cross_val_score(xgb_model, X_train, y_train, cv=cv, n_jobs=-1,\n",
    "#                             scoring='neg_root_mean_squared_error')\n",
    "#     return -np.mean(score)\n",
    "\n",
    "# study_params = [(0, 'minimize'),\n",
    "#                 (1, 'minimize'),\n",
    "#                 (2, 'minimize')]\n",
    "# best_params_xgb1 = {}\n",
    "# best_params_xgb2 = {}\n",
    "# best_params_xgb3 = {}\n",
    "\n",
    "# for i, direction in study_params:\n",
    "#     study_xgb = optuna.create_study(direction=direction,\n",
    "#                                      sampler=optuna.samplers.TPESampler(seed=RANDOM_SEED * i,\n",
    "#                                                                         n_startup_trials=20,\n",
    "#                                                                         multivariate=True),\n",
    "#                                      study_name=f'optuna_xgb{i + 1}')\n",
    "#     study_xgb.optimize(lambda trial: objective_xgb(trial, i), n_trials=100, n_jobs=-1)\n",
    "#     best_params = study_xgb.best_params\n",
    "#     if i == 0:\n",
    "#         best_params_xgb1 = best_params\n",
    "#     elif i == 1:\n",
    "#         best_params_xgb2 = best_params\n",
    "#     elif i == 2:\n",
    "#         best_params_xgb3 = best_params"
   ]
  },
  {
   "cell_type": "code",
   "execution_count": 39,
   "metadata": {},
   "outputs": [],
   "source": [
    "# print(f'best_params_xgb1 = {best_params_xgb1}')\n",
    "# print(f'best_params_xgb2 = {best_params_xgb2}')\n",
    "# print(f'best_params_xgb3 = {best_params_xgb3}')"
   ]
  },
  {
   "cell_type": "code",
   "execution_count": 40,
   "metadata": {},
   "outputs": [],
   "source": [
    "best_params_xgb1 = {'n_estimators': 1518,\n",
    "                    'learning_rate': 0.012965837987574155,\n",
    "                    'gamma': 0.004388978745493273,\n",
    "                    'subsample': 0.5856140222691781,\n",
    "                    'max_depth': 7,\n",
    "                    'colsample_bytree': 0.5950207833060395,\n",
    "                    'min_child_weight': 6}"
   ]
  },
  {
   "cell_type": "code",
   "execution_count": 41,
   "metadata": {},
   "outputs": [],
   "source": [
    "best_params_xgb2 = {'n_estimators': 509,\n",
    "                    'learning_rate': 0.02023403324507263,\n",
    "                    'gamma': 0.0486418679710911,\n",
    "                    'subsample': 0.3987418218706684,\n",
    "                    'max_depth': 10,\n",
    "                    'colsample_bytree': 0.7276350056341108,\n",
    "                    'min_child_weight': 6}"
   ]
  },
  {
   "cell_type": "code",
   "execution_count": 42,
   "metadata": {},
   "outputs": [],
   "source": [
    "best_params_xgb3 = {'n_estimators': 2647,\n",
    "                    'learning_rate': 0.019347214086282188,\n",
    "                    'gamma': 0.07632238938534301,\n",
    "                    'subsample': 0.4583849096383787,\n",
    "                    'max_depth': 8,\n",
    "                    'colsample_bytree': 0.8542836568740316,\n",
    "                    'min_child_weight': 7}"
   ]
  },
  {
   "cell_type": "markdown",
   "metadata": {},
   "source": [
    "### Fit:"
   ]
  },
  {
   "cell_type": "code",
   "execution_count": 43,
   "metadata": {},
   "outputs": [
    {
     "name": "stdout",
     "output_type": "stream",
     "text": [
      "Fitted\n"
     ]
    }
   ],
   "source": [
    "xgb1_model = XGBRegressor(**best_params_xgb1)\n",
    "xgb1_model.fit(X_train, y_train)\n",
    "\n",
    "xgb2_model = XGBRegressor(**best_params_xgb2)\n",
    "xgb2_model.fit(X_train, y_train)\n",
    "\n",
    "xgb3_model = XGBRegressor(**best_params_xgb2)\n",
    "xgb3_model.fit(X_train, y_train)\n",
    "\n",
    "print('Fitted')"
   ]
  },
  {
   "cell_type": "markdown",
   "metadata": {},
   "source": [
    "## VotingRegressor"
   ]
  },
  {
   "cell_type": "markdown",
   "metadata": {},
   "source": [
    "### Tuning ensemble weights:"
   ]
  },
  {
   "cell_type": "code",
   "execution_count": 44,
   "metadata": {},
   "outputs": [],
   "source": [
    "estimators = estimators=[('LightGBM Regressor 1', lgbm1_model),\n",
    "                         ('LightGBM Regressor 2', lgbm2_model),\n",
    "                         ('LightGBM Regressor 3', lgbm3_model),\n",
    "                         ('XGBoost Regressor 1', xgb1_model),\n",
    "                         ('XGBoost Regressor 2', xgb2_model),\n",
    "                         ('XGBoost Regressor 3', xgb3_model),\n",
    "                         ('CatBoost Regressor 1', cat1_model),\n",
    "                         ('CatBoost Regressor 2', cat2_model),\n",
    "                         ('CatBoost Regressor 3', cat3_model)]"
   ]
  },
  {
   "cell_type": "code",
   "execution_count": 45,
   "metadata": {},
   "outputs": [],
   "source": [
    "# def objective_voting(trial):\n",
    "    \n",
    "#     params = {'lgbm1_weight': trial.suggest_float('lgbm1_weight', 0.0, 10.0),\n",
    "#               'lgbm2_weight': trial.suggest_float('lgbm2_weight', 0.0, 10.0),\n",
    "#               'lgbm3_weight': trial.suggest_float('lgbm3_weight', 0.0, 10.0),\n",
    "#               'xgb1_weight': trial.suggest_float('xgb1_weight', 0.0, 10.0),\n",
    "#               'xgb2_weight': trial.suggest_float('xgb2_weight', 0.0, 10.0),\n",
    "#               'xgb3_weight': trial.suggest_float('xgb3_weight', 0.0, 10.0),\n",
    "#               'cat1_weight': trial.suggest_float('cat1_weight', 0.0, 10.0),\n",
    "#               'cat2_weight': trial.suggest_float('cat2_weight', 0.0, 10.0),\n",
    "#               'cat3_weight': trial.suggest_float('cat3_weight', 0.0, 10.0)}\n",
    "    \n",
    "#     cv = KFold(n_splits=10, shuffle=True, random_state=RANDOM_SEED)\n",
    "    \n",
    "#     voting = VotingRegressor(estimators=estimators,\n",
    "#                              weights=[params['lgbm1_weight'],\n",
    "#                                       params['lgbm2_weight'],\n",
    "#                                       params['lgbm3_weight'],\n",
    "#                                       params['xgb1_weight'],\n",
    "#                                       params['xgb2_weight'],\n",
    "#                                       params['xgb3_weight'],\n",
    "#                                       params['cat1_weight'],\n",
    "#                                       params['cat2_weight'],\n",
    "#                                       params['cat3_weight']])\n",
    "#     score = cross_val_score(voting, X_train, y_train, cv=cv, n_jobs=-1,\n",
    "#                             scoring='neg_root_mean_squared_error')\n",
    "#     return -np.mean(score)\n",
    "\n",
    "# study_voting = optuna.create_study(direction='minimize',\n",
    "#                                    sampler=optuna.samplers.TPESampler(seed=RANDOM_SEED,\n",
    "#                                                                       n_startup_trials=20,\n",
    "#                                                                       multivariate=True),\n",
    "#                                    study_name='optuna_voting')\n",
    "# study_voting.optimize(objective_voting, n_trials=100, n_jobs=-1)\n",
    "# best_params_voting = study_voting.best_params"
   ]
  },
  {
   "cell_type": "code",
   "execution_count": 46,
   "metadata": {},
   "outputs": [],
   "source": [
    "# best_params_voting"
   ]
  },
  {
   "cell_type": "code",
   "execution_count": 47,
   "metadata": {},
   "outputs": [],
   "source": [
    "best_params_voting = {'lgbm1_weight': 8.534309199664701,\n",
    "                      'lgbm2_weight': 6.651509086669025,\n",
    "                      'lgbm3_weight': 7.022097542064461,\n",
    "                      'xgb1_weight': 0.6293183086161971,\n",
    "                      'xgb2_weight': 1.0666908926330385,\n",
    "                      'xgb3_weight': 0.8658434393843959,\n",
    "                      'cat1_weight': 0.30104806155789965,\n",
    "                      'cat2_weight': 3.0320101228538925,\n",
    "                      'cat3_weight': 1.6978086423033254}\n"
   ]
  },
  {
   "cell_type": "markdown",
   "metadata": {},
   "source": [
    "### Fit:"
   ]
  },
  {
   "cell_type": "code",
   "execution_count": 48,
   "metadata": {},
   "outputs": [
    {
     "data": {
      "text/html": [
       "<style>#sk-container-id-1 {\n",
       "  /* Definition of color scheme common for light and dark mode */\n",
       "  --sklearn-color-text: black;\n",
       "  --sklearn-color-line: gray;\n",
       "  /* Definition of color scheme for unfitted estimators */\n",
       "  --sklearn-color-unfitted-level-0: #fff5e6;\n",
       "  --sklearn-color-unfitted-level-1: #f6e4d2;\n",
       "  --sklearn-color-unfitted-level-2: #ffe0b3;\n",
       "  --sklearn-color-unfitted-level-3: chocolate;\n",
       "  /* Definition of color scheme for fitted estimators */\n",
       "  --sklearn-color-fitted-level-0: #f0f8ff;\n",
       "  --sklearn-color-fitted-level-1: #d4ebff;\n",
       "  --sklearn-color-fitted-level-2: #b3dbfd;\n",
       "  --sklearn-color-fitted-level-3: cornflowerblue;\n",
       "\n",
       "  /* Specific color for light theme */\n",
       "  --sklearn-color-text-on-default-background: var(--sg-text-color, var(--theme-code-foreground, var(--jp-content-font-color1, black)));\n",
       "  --sklearn-color-background: var(--sg-background-color, var(--theme-background, var(--jp-layout-color0, white)));\n",
       "  --sklearn-color-border-box: var(--sg-text-color, var(--theme-code-foreground, var(--jp-content-font-color1, black)));\n",
       "  --sklearn-color-icon: #696969;\n",
       "\n",
       "  @media (prefers-color-scheme: dark) {\n",
       "    /* Redefinition of color scheme for dark theme */\n",
       "    --sklearn-color-text-on-default-background: var(--sg-text-color, var(--theme-code-foreground, var(--jp-content-font-color1, white)));\n",
       "    --sklearn-color-background: var(--sg-background-color, var(--theme-background, var(--jp-layout-color0, #111)));\n",
       "    --sklearn-color-border-box: var(--sg-text-color, var(--theme-code-foreground, var(--jp-content-font-color1, white)));\n",
       "    --sklearn-color-icon: #878787;\n",
       "  }\n",
       "}\n",
       "\n",
       "#sk-container-id-1 {\n",
       "  color: var(--sklearn-color-text);\n",
       "}\n",
       "\n",
       "#sk-container-id-1 pre {\n",
       "  padding: 0;\n",
       "}\n",
       "\n",
       "#sk-container-id-1 input.sk-hidden--visually {\n",
       "  border: 0;\n",
       "  clip: rect(1px 1px 1px 1px);\n",
       "  clip: rect(1px, 1px, 1px, 1px);\n",
       "  height: 1px;\n",
       "  margin: -1px;\n",
       "  overflow: hidden;\n",
       "  padding: 0;\n",
       "  position: absolute;\n",
       "  width: 1px;\n",
       "}\n",
       "\n",
       "#sk-container-id-1 div.sk-dashed-wrapped {\n",
       "  border: 1px dashed var(--sklearn-color-line);\n",
       "  margin: 0 0.4em 0.5em 0.4em;\n",
       "  box-sizing: border-box;\n",
       "  padding-bottom: 0.4em;\n",
       "  background-color: var(--sklearn-color-background);\n",
       "}\n",
       "\n",
       "#sk-container-id-1 div.sk-container {\n",
       "  /* jupyter's `normalize.less` sets `[hidden] { display: none; }`\n",
       "     but bootstrap.min.css set `[hidden] { display: none !important; }`\n",
       "     so we also need the `!important` here to be able to override the\n",
       "     default hidden behavior on the sphinx rendered scikit-learn.org.\n",
       "     See: https://github.com/scikit-learn/scikit-learn/issues/21755 */\n",
       "  display: inline-block !important;\n",
       "  position: relative;\n",
       "}\n",
       "\n",
       "#sk-container-id-1 div.sk-text-repr-fallback {\n",
       "  display: none;\n",
       "}\n",
       "\n",
       "div.sk-parallel-item,\n",
       "div.sk-serial,\n",
       "div.sk-item {\n",
       "  /* draw centered vertical line to link estimators */\n",
       "  background-image: linear-gradient(var(--sklearn-color-text-on-default-background), var(--sklearn-color-text-on-default-background));\n",
       "  background-size: 2px 100%;\n",
       "  background-repeat: no-repeat;\n",
       "  background-position: center center;\n",
       "}\n",
       "\n",
       "/* Parallel-specific style estimator block */\n",
       "\n",
       "#sk-container-id-1 div.sk-parallel-item::after {\n",
       "  content: \"\";\n",
       "  width: 100%;\n",
       "  border-bottom: 2px solid var(--sklearn-color-text-on-default-background);\n",
       "  flex-grow: 1;\n",
       "}\n",
       "\n",
       "#sk-container-id-1 div.sk-parallel {\n",
       "  display: flex;\n",
       "  align-items: stretch;\n",
       "  justify-content: center;\n",
       "  background-color: var(--sklearn-color-background);\n",
       "  position: relative;\n",
       "}\n",
       "\n",
       "#sk-container-id-1 div.sk-parallel-item {\n",
       "  display: flex;\n",
       "  flex-direction: column;\n",
       "}\n",
       "\n",
       "#sk-container-id-1 div.sk-parallel-item:first-child::after {\n",
       "  align-self: flex-end;\n",
       "  width: 50%;\n",
       "}\n",
       "\n",
       "#sk-container-id-1 div.sk-parallel-item:last-child::after {\n",
       "  align-self: flex-start;\n",
       "  width: 50%;\n",
       "}\n",
       "\n",
       "#sk-container-id-1 div.sk-parallel-item:only-child::after {\n",
       "  width: 0;\n",
       "}\n",
       "\n",
       "/* Serial-specific style estimator block */\n",
       "\n",
       "#sk-container-id-1 div.sk-serial {\n",
       "  display: flex;\n",
       "  flex-direction: column;\n",
       "  align-items: center;\n",
       "  background-color: var(--sklearn-color-background);\n",
       "  padding-right: 1em;\n",
       "  padding-left: 1em;\n",
       "}\n",
       "\n",
       "\n",
       "/* Toggleable style: style used for estimator/Pipeline/ColumnTransformer box that is\n",
       "clickable and can be expanded/collapsed.\n",
       "- Pipeline and ColumnTransformer use this feature and define the default style\n",
       "- Estimators will overwrite some part of the style using the `sk-estimator` class\n",
       "*/\n",
       "\n",
       "/* Pipeline and ColumnTransformer style (default) */\n",
       "\n",
       "#sk-container-id-1 div.sk-toggleable {\n",
       "  /* Default theme specific background. It is overwritten whether we have a\n",
       "  specific estimator or a Pipeline/ColumnTransformer */\n",
       "  background-color: var(--sklearn-color-background);\n",
       "}\n",
       "\n",
       "/* Toggleable label */\n",
       "#sk-container-id-1 label.sk-toggleable__label {\n",
       "  cursor: pointer;\n",
       "  display: block;\n",
       "  width: 100%;\n",
       "  margin-bottom: 0;\n",
       "  padding: 0.5em;\n",
       "  box-sizing: border-box;\n",
       "  text-align: center;\n",
       "}\n",
       "\n",
       "#sk-container-id-1 label.sk-toggleable__label-arrow:before {\n",
       "  /* Arrow on the left of the label */\n",
       "  content: \"▸\";\n",
       "  float: left;\n",
       "  margin-right: 0.25em;\n",
       "  color: var(--sklearn-color-icon);\n",
       "}\n",
       "\n",
       "#sk-container-id-1 label.sk-toggleable__label-arrow:hover:before {\n",
       "  color: var(--sklearn-color-text);\n",
       "}\n",
       "\n",
       "/* Toggleable content - dropdown */\n",
       "\n",
       "#sk-container-id-1 div.sk-toggleable__content {\n",
       "  max-height: 0;\n",
       "  max-width: 0;\n",
       "  overflow: hidden;\n",
       "  text-align: left;\n",
       "  /* unfitted */\n",
       "  background-color: var(--sklearn-color-unfitted-level-0);\n",
       "}\n",
       "\n",
       "#sk-container-id-1 div.sk-toggleable__content.fitted {\n",
       "  /* fitted */\n",
       "  background-color: var(--sklearn-color-fitted-level-0);\n",
       "}\n",
       "\n",
       "#sk-container-id-1 div.sk-toggleable__content pre {\n",
       "  margin: 0.2em;\n",
       "  border-radius: 0.25em;\n",
       "  color: var(--sklearn-color-text);\n",
       "  /* unfitted */\n",
       "  background-color: var(--sklearn-color-unfitted-level-0);\n",
       "}\n",
       "\n",
       "#sk-container-id-1 div.sk-toggleable__content.fitted pre {\n",
       "  /* unfitted */\n",
       "  background-color: var(--sklearn-color-fitted-level-0);\n",
       "}\n",
       "\n",
       "#sk-container-id-1 input.sk-toggleable__control:checked~div.sk-toggleable__content {\n",
       "  /* Expand drop-down */\n",
       "  max-height: 200px;\n",
       "  max-width: 100%;\n",
       "  overflow: auto;\n",
       "}\n",
       "\n",
       "#sk-container-id-1 input.sk-toggleable__control:checked~label.sk-toggleable__label-arrow:before {\n",
       "  content: \"▾\";\n",
       "}\n",
       "\n",
       "/* Pipeline/ColumnTransformer-specific style */\n",
       "\n",
       "#sk-container-id-1 div.sk-label input.sk-toggleable__control:checked~label.sk-toggleable__label {\n",
       "  color: var(--sklearn-color-text);\n",
       "  background-color: var(--sklearn-color-unfitted-level-2);\n",
       "}\n",
       "\n",
       "#sk-container-id-1 div.sk-label.fitted input.sk-toggleable__control:checked~label.sk-toggleable__label {\n",
       "  background-color: var(--sklearn-color-fitted-level-2);\n",
       "}\n",
       "\n",
       "/* Estimator-specific style */\n",
       "\n",
       "/* Colorize estimator box */\n",
       "#sk-container-id-1 div.sk-estimator input.sk-toggleable__control:checked~label.sk-toggleable__label {\n",
       "  /* unfitted */\n",
       "  background-color: var(--sklearn-color-unfitted-level-2);\n",
       "}\n",
       "\n",
       "#sk-container-id-1 div.sk-estimator.fitted input.sk-toggleable__control:checked~label.sk-toggleable__label {\n",
       "  /* fitted */\n",
       "  background-color: var(--sklearn-color-fitted-level-2);\n",
       "}\n",
       "\n",
       "#sk-container-id-1 div.sk-label label.sk-toggleable__label,\n",
       "#sk-container-id-1 div.sk-label label {\n",
       "  /* The background is the default theme color */\n",
       "  color: var(--sklearn-color-text-on-default-background);\n",
       "}\n",
       "\n",
       "/* On hover, darken the color of the background */\n",
       "#sk-container-id-1 div.sk-label:hover label.sk-toggleable__label {\n",
       "  color: var(--sklearn-color-text);\n",
       "  background-color: var(--sklearn-color-unfitted-level-2);\n",
       "}\n",
       "\n",
       "/* Label box, darken color on hover, fitted */\n",
       "#sk-container-id-1 div.sk-label.fitted:hover label.sk-toggleable__label.fitted {\n",
       "  color: var(--sklearn-color-text);\n",
       "  background-color: var(--sklearn-color-fitted-level-2);\n",
       "}\n",
       "\n",
       "/* Estimator label */\n",
       "\n",
       "#sk-container-id-1 div.sk-label label {\n",
       "  font-family: monospace;\n",
       "  font-weight: bold;\n",
       "  display: inline-block;\n",
       "  line-height: 1.2em;\n",
       "}\n",
       "\n",
       "#sk-container-id-1 div.sk-label-container {\n",
       "  text-align: center;\n",
       "}\n",
       "\n",
       "/* Estimator-specific */\n",
       "#sk-container-id-1 div.sk-estimator {\n",
       "  font-family: monospace;\n",
       "  border: 1px dotted var(--sklearn-color-border-box);\n",
       "  border-radius: 0.25em;\n",
       "  box-sizing: border-box;\n",
       "  margin-bottom: 0.5em;\n",
       "  /* unfitted */\n",
       "  background-color: var(--sklearn-color-unfitted-level-0);\n",
       "}\n",
       "\n",
       "#sk-container-id-1 div.sk-estimator.fitted {\n",
       "  /* fitted */\n",
       "  background-color: var(--sklearn-color-fitted-level-0);\n",
       "}\n",
       "\n",
       "/* on hover */\n",
       "#sk-container-id-1 div.sk-estimator:hover {\n",
       "  /* unfitted */\n",
       "  background-color: var(--sklearn-color-unfitted-level-2);\n",
       "}\n",
       "\n",
       "#sk-container-id-1 div.sk-estimator.fitted:hover {\n",
       "  /* fitted */\n",
       "  background-color: var(--sklearn-color-fitted-level-2);\n",
       "}\n",
       "\n",
       "/* Specification for estimator info (e.g. \"i\" and \"?\") */\n",
       "\n",
       "/* Common style for \"i\" and \"?\" */\n",
       "\n",
       ".sk-estimator-doc-link,\n",
       "a:link.sk-estimator-doc-link,\n",
       "a:visited.sk-estimator-doc-link {\n",
       "  float: right;\n",
       "  font-size: smaller;\n",
       "  line-height: 1em;\n",
       "  font-family: monospace;\n",
       "  background-color: var(--sklearn-color-background);\n",
       "  border-radius: 1em;\n",
       "  height: 1em;\n",
       "  width: 1em;\n",
       "  text-decoration: none !important;\n",
       "  margin-left: 1ex;\n",
       "  /* unfitted */\n",
       "  border: var(--sklearn-color-unfitted-level-1) 1pt solid;\n",
       "  color: var(--sklearn-color-unfitted-level-1);\n",
       "}\n",
       "\n",
       ".sk-estimator-doc-link.fitted,\n",
       "a:link.sk-estimator-doc-link.fitted,\n",
       "a:visited.sk-estimator-doc-link.fitted {\n",
       "  /* fitted */\n",
       "  border: var(--sklearn-color-fitted-level-1) 1pt solid;\n",
       "  color: var(--sklearn-color-fitted-level-1);\n",
       "}\n",
       "\n",
       "/* On hover */\n",
       "div.sk-estimator:hover .sk-estimator-doc-link:hover,\n",
       ".sk-estimator-doc-link:hover,\n",
       "div.sk-label-container:hover .sk-estimator-doc-link:hover,\n",
       ".sk-estimator-doc-link:hover {\n",
       "  /* unfitted */\n",
       "  background-color: var(--sklearn-color-unfitted-level-3);\n",
       "  color: var(--sklearn-color-background);\n",
       "  text-decoration: none;\n",
       "}\n",
       "\n",
       "div.sk-estimator.fitted:hover .sk-estimator-doc-link.fitted:hover,\n",
       ".sk-estimator-doc-link.fitted:hover,\n",
       "div.sk-label-container:hover .sk-estimator-doc-link.fitted:hover,\n",
       ".sk-estimator-doc-link.fitted:hover {\n",
       "  /* fitted */\n",
       "  background-color: var(--sklearn-color-fitted-level-3);\n",
       "  color: var(--sklearn-color-background);\n",
       "  text-decoration: none;\n",
       "}\n",
       "\n",
       "/* Span, style for the box shown on hovering the info icon */\n",
       ".sk-estimator-doc-link span {\n",
       "  display: none;\n",
       "  z-index: 9999;\n",
       "  position: relative;\n",
       "  font-weight: normal;\n",
       "  right: .2ex;\n",
       "  padding: .5ex;\n",
       "  margin: .5ex;\n",
       "  width: min-content;\n",
       "  min-width: 20ex;\n",
       "  max-width: 50ex;\n",
       "  color: var(--sklearn-color-text);\n",
       "  box-shadow: 2pt 2pt 4pt #999;\n",
       "  /* unfitted */\n",
       "  background: var(--sklearn-color-unfitted-level-0);\n",
       "  border: .5pt solid var(--sklearn-color-unfitted-level-3);\n",
       "}\n",
       "\n",
       ".sk-estimator-doc-link.fitted span {\n",
       "  /* fitted */\n",
       "  background: var(--sklearn-color-fitted-level-0);\n",
       "  border: var(--sklearn-color-fitted-level-3);\n",
       "}\n",
       "\n",
       ".sk-estimator-doc-link:hover span {\n",
       "  display: block;\n",
       "}\n",
       "\n",
       "/* \"?\"-specific style due to the `<a>` HTML tag */\n",
       "\n",
       "#sk-container-id-1 a.estimator_doc_link {\n",
       "  float: right;\n",
       "  font-size: 1rem;\n",
       "  line-height: 1em;\n",
       "  font-family: monospace;\n",
       "  background-color: var(--sklearn-color-background);\n",
       "  border-radius: 1rem;\n",
       "  height: 1rem;\n",
       "  width: 1rem;\n",
       "  text-decoration: none;\n",
       "  /* unfitted */\n",
       "  color: var(--sklearn-color-unfitted-level-1);\n",
       "  border: var(--sklearn-color-unfitted-level-1) 1pt solid;\n",
       "}\n",
       "\n",
       "#sk-container-id-1 a.estimator_doc_link.fitted {\n",
       "  /* fitted */\n",
       "  border: var(--sklearn-color-fitted-level-1) 1pt solid;\n",
       "  color: var(--sklearn-color-fitted-level-1);\n",
       "}\n",
       "\n",
       "/* On hover */\n",
       "#sk-container-id-1 a.estimator_doc_link:hover {\n",
       "  /* unfitted */\n",
       "  background-color: var(--sklearn-color-unfitted-level-3);\n",
       "  color: var(--sklearn-color-background);\n",
       "  text-decoration: none;\n",
       "}\n",
       "\n",
       "#sk-container-id-1 a.estimator_doc_link.fitted:hover {\n",
       "  /* fitted */\n",
       "  background-color: var(--sklearn-color-fitted-level-3);\n",
       "}\n",
       "</style><div id=\"sk-container-id-1\" class=\"sk-top-container\"><div class=\"sk-text-repr-fallback\"><pre>VotingRegressor(estimators=[(&#x27;LightGBM Regressor 1&#x27;,\n",
       "                             LGBMRegressor(colsample_bytree=0.9386112629191288,\n",
       "                                           learning_rate=0.09022305021868901,\n",
       "                                           max_depth=14, n_estimators=2678,\n",
       "                                           num_leaves=8,\n",
       "                                           reg_alpha=1.8264448933490005,\n",
       "                                           reg_lambda=33.209764960046115,\n",
       "                                           subsample=0.2539522467890303,\n",
       "                                           verbose=-1)),\n",
       "                            (&#x27;LightGBM Regressor 2&#x27;,\n",
       "                             LGBMRegressor(colsample_bytree=0.581857652731719,...\n",
       "                            (&#x27;CatBoost Regressor 2&#x27;,\n",
       "                             &lt;catboost.core.CatBoostRegressor object at 0x000001F1458FF830&gt;),\n",
       "                            (&#x27;CatBoost Regressor 3&#x27;,\n",
       "                             &lt;catboost.core.CatBoostRegressor object at 0x000001F1458FC320&gt;)],\n",
       "                n_jobs=-1,\n",
       "                weights=[8.534309199664701, 6.651509086669025,\n",
       "                         7.022097542064461, 0.6293183086161971,\n",
       "                         1.0666908926330385, 0.8658434393843959,\n",
       "                         0.30104806155789965, 3.0320101228538925,\n",
       "                         1.6978086423033254])</pre><b>In a Jupyter environment, please rerun this cell to show the HTML representation or trust the notebook. <br />On GitHub, the HTML representation is unable to render, please try loading this page with nbviewer.org.</b></div><div class=\"sk-container\" hidden><div class=\"sk-item sk-dashed-wrapped\"><div class=\"sk-label-container\"><div class=\"sk-label fitted sk-toggleable\"><input class=\"sk-toggleable__control sk-hidden--visually\" id=\"sk-estimator-id-1\" type=\"checkbox\" ><label for=\"sk-estimator-id-1\" class=\"sk-toggleable__label fitted sk-toggleable__label-arrow fitted\">&nbsp;&nbsp;VotingRegressor<a class=\"sk-estimator-doc-link fitted\" rel=\"noreferrer\" target=\"_blank\" href=\"https://scikit-learn.org/1.4/modules/generated/sklearn.ensemble.VotingRegressor.html\">?<span>Documentation for VotingRegressor</span></a><span class=\"sk-estimator-doc-link fitted\">i<span>Fitted</span></span></label><div class=\"sk-toggleable__content fitted\"><pre>VotingRegressor(estimators=[(&#x27;LightGBM Regressor 1&#x27;,\n",
       "                             LGBMRegressor(colsample_bytree=0.9386112629191288,\n",
       "                                           learning_rate=0.09022305021868901,\n",
       "                                           max_depth=14, n_estimators=2678,\n",
       "                                           num_leaves=8,\n",
       "                                           reg_alpha=1.8264448933490005,\n",
       "                                           reg_lambda=33.209764960046115,\n",
       "                                           subsample=0.2539522467890303,\n",
       "                                           verbose=-1)),\n",
       "                            (&#x27;LightGBM Regressor 2&#x27;,\n",
       "                             LGBMRegressor(colsample_bytree=0.581857652731719,...\n",
       "                            (&#x27;CatBoost Regressor 2&#x27;,\n",
       "                             &lt;catboost.core.CatBoostRegressor object at 0x000001F1458FF830&gt;),\n",
       "                            (&#x27;CatBoost Regressor 3&#x27;,\n",
       "                             &lt;catboost.core.CatBoostRegressor object at 0x000001F1458FC320&gt;)],\n",
       "                n_jobs=-1,\n",
       "                weights=[8.534309199664701, 6.651509086669025,\n",
       "                         7.022097542064461, 0.6293183086161971,\n",
       "                         1.0666908926330385, 0.8658434393843959,\n",
       "                         0.30104806155789965, 3.0320101228538925,\n",
       "                         1.6978086423033254])</pre></div> </div></div><div class=\"sk-parallel\"><div class=\"sk-parallel-item\"><div class=\"sk-item\"><div class=\"sk-label-container\"><div class=\"sk-label fitted sk-toggleable\"><label>LightGBM Regressor 1</label></div></div><div class=\"sk-serial\"><div class=\"sk-item\"><div class=\"sk-estimator fitted sk-toggleable\"><input class=\"sk-toggleable__control sk-hidden--visually\" id=\"sk-estimator-id-2\" type=\"checkbox\" ><label for=\"sk-estimator-id-2\" class=\"sk-toggleable__label fitted sk-toggleable__label-arrow fitted\">LGBMRegressor</label><div class=\"sk-toggleable__content fitted\"><pre>LGBMRegressor(colsample_bytree=0.9386112629191288,\n",
       "              learning_rate=0.09022305021868901, max_depth=14,\n",
       "              n_estimators=2678, num_leaves=8, reg_alpha=1.8264448933490005,\n",
       "              reg_lambda=33.209764960046115, subsample=0.2539522467890303,\n",
       "              verbose=-1)</pre></div> </div></div></div></div></div><div class=\"sk-parallel-item\"><div class=\"sk-item\"><div class=\"sk-label-container\"><div class=\"sk-label fitted sk-toggleable\"><label>LightGBM Regressor 2</label></div></div><div class=\"sk-serial\"><div class=\"sk-item\"><div class=\"sk-estimator fitted sk-toggleable\"><input class=\"sk-toggleable__control sk-hidden--visually\" id=\"sk-estimator-id-3\" type=\"checkbox\" ><label for=\"sk-estimator-id-3\" class=\"sk-toggleable__label fitted sk-toggleable__label-arrow fitted\">LGBMRegressor</label><div class=\"sk-toggleable__content fitted\"><pre>LGBMRegressor(colsample_bytree=0.581857652731719,\n",
       "              learning_rate=0.03295212598163628, max_depth=6, n_estimators=1917,\n",
       "              num_leaves=204, reg_alpha=0.3891969747400461,\n",
       "              reg_lambda=23.88663443803604, subsample=0.800674115252639,\n",
       "              verbose=-1)</pre></div> </div></div></div></div></div><div class=\"sk-parallel-item\"><div class=\"sk-item\"><div class=\"sk-label-container\"><div class=\"sk-label fitted sk-toggleable\"><label>LightGBM Regressor 3</label></div></div><div class=\"sk-serial\"><div class=\"sk-item\"><div class=\"sk-estimator fitted sk-toggleable\"><input class=\"sk-toggleable__control sk-hidden--visually\" id=\"sk-estimator-id-4\" type=\"checkbox\" ><label for=\"sk-estimator-id-4\" class=\"sk-toggleable__label fitted sk-toggleable__label-arrow fitted\">LGBMRegressor</label><div class=\"sk-toggleable__content fitted\"><pre>LGBMRegressor(colsample_bytree=0.6520304312744272,\n",
       "              learning_rate=0.014229199861734208, max_depth=10,\n",
       "              n_estimators=1627, num_leaves=235, reg_alpha=1.3969814084577226,\n",
       "              reg_lambda=12.593313889017155, subsample=0.29708433790119104,\n",
       "              verbose=-1)</pre></div> </div></div></div></div></div><div class=\"sk-parallel-item\"><div class=\"sk-item\"><div class=\"sk-label-container\"><div class=\"sk-label fitted sk-toggleable\"><label>XGBoost Regressor 1</label></div></div><div class=\"sk-serial\"><div class=\"sk-item\"><div class=\"sk-estimator fitted sk-toggleable\"><input class=\"sk-toggleable__control sk-hidden--visually\" id=\"sk-estimator-id-5\" type=\"checkbox\" ><label for=\"sk-estimator-id-5\" class=\"sk-toggleable__label fitted sk-toggleable__label-arrow fitted\">XGBRegressor</label><div class=\"sk-toggleable__content fitted\"><pre>XGBRegressor(base_score=None, booster=None, callbacks=None,\n",
       "             colsample_bylevel=None, colsample_bynode=None,\n",
       "             colsample_bytree=0.5950207833060395, device=None,\n",
       "             early_stopping_rounds=None, enable_categorical=False,\n",
       "             eval_metric=None, feature_types=None, gamma=0.004388978745493273,\n",
       "             grow_policy=None, importance_type=None,\n",
       "             interaction_constraints=None, learning_rate=0.012965837987574155,\n",
       "             max_bin=None, max_cat_threshold=None, max_cat_to_onehot=None,\n",
       "             max_delta_step=None, max_depth=7, max_leaves=None,\n",
       "             min_child_weight=6, missing=nan, monotone_constraints=None,\n",
       "             multi_strategy=None, n_estimators=1518, n_jobs=None,\n",
       "             num_parallel_tree=None, random_state=None, ...)</pre></div> </div></div></div></div></div><div class=\"sk-parallel-item\"><div class=\"sk-item\"><div class=\"sk-label-container\"><div class=\"sk-label fitted sk-toggleable\"><label>XGBoost Regressor 2</label></div></div><div class=\"sk-serial\"><div class=\"sk-item\"><div class=\"sk-estimator fitted sk-toggleable\"><input class=\"sk-toggleable__control sk-hidden--visually\" id=\"sk-estimator-id-6\" type=\"checkbox\" ><label for=\"sk-estimator-id-6\" class=\"sk-toggleable__label fitted sk-toggleable__label-arrow fitted\">XGBRegressor</label><div class=\"sk-toggleable__content fitted\"><pre>XGBRegressor(base_score=None, booster=None, callbacks=None,\n",
       "             colsample_bylevel=None, colsample_bynode=None,\n",
       "             colsample_bytree=0.7276350056341108, device=None,\n",
       "             early_stopping_rounds=None, enable_categorical=False,\n",
       "             eval_metric=None, feature_types=None, gamma=0.0486418679710911,\n",
       "             grow_policy=None, importance_type=None,\n",
       "             interaction_constraints=None, learning_rate=0.02023403324507263,\n",
       "             max_bin=None, max_cat_threshold=None, max_cat_to_onehot=None,\n",
       "             max_delta_step=None, max_depth=10, max_leaves=None,\n",
       "             min_child_weight=6, missing=nan, monotone_constraints=None,\n",
       "             multi_strategy=None, n_estimators=509, n_jobs=None,\n",
       "             num_parallel_tree=None, random_state=None, ...)</pre></div> </div></div></div></div></div><div class=\"sk-parallel-item\"><div class=\"sk-item\"><div class=\"sk-label-container\"><div class=\"sk-label fitted sk-toggleable\"><label>XGBoost Regressor 3</label></div></div><div class=\"sk-serial\"><div class=\"sk-item\"><div class=\"sk-estimator fitted sk-toggleable\"><input class=\"sk-toggleable__control sk-hidden--visually\" id=\"sk-estimator-id-7\" type=\"checkbox\" ><label for=\"sk-estimator-id-7\" class=\"sk-toggleable__label fitted sk-toggleable__label-arrow fitted\">XGBRegressor</label><div class=\"sk-toggleable__content fitted\"><pre>XGBRegressor(base_score=None, booster=None, callbacks=None,\n",
       "             colsample_bylevel=None, colsample_bynode=None,\n",
       "             colsample_bytree=0.7276350056341108, device=None,\n",
       "             early_stopping_rounds=None, enable_categorical=False,\n",
       "             eval_metric=None, feature_types=None, gamma=0.0486418679710911,\n",
       "             grow_policy=None, importance_type=None,\n",
       "             interaction_constraints=None, learning_rate=0.02023403324507263,\n",
       "             max_bin=None, max_cat_threshold=None, max_cat_to_onehot=None,\n",
       "             max_delta_step=None, max_depth=10, max_leaves=None,\n",
       "             min_child_weight=6, missing=nan, monotone_constraints=None,\n",
       "             multi_strategy=None, n_estimators=509, n_jobs=None,\n",
       "             num_parallel_tree=None, random_state=None, ...)</pre></div> </div></div></div></div></div><div class=\"sk-parallel-item\"><div class=\"sk-item\"><div class=\"sk-label-container\"><div class=\"sk-label fitted sk-toggleable\"><label>CatBoost Regressor 1</label></div></div><div class=\"sk-serial\"><div class=\"sk-item\"><div class=\"sk-estimator fitted sk-toggleable\"><input class=\"sk-toggleable__control sk-hidden--visually\" id=\"sk-estimator-id-8\" type=\"checkbox\" ><label for=\"sk-estimator-id-8\" class=\"sk-toggleable__label fitted sk-toggleable__label-arrow fitted\">CatBoostRegressor</label><div class=\"sk-toggleable__content fitted\"><pre>&lt;catboost.core.CatBoostRegressor object at 0x000001F1459376E0&gt;</pre></div> </div></div></div></div></div><div class=\"sk-parallel-item\"><div class=\"sk-item\"><div class=\"sk-label-container\"><div class=\"sk-label fitted sk-toggleable\"><label>CatBoost Regressor 2</label></div></div><div class=\"sk-serial\"><div class=\"sk-item\"><div class=\"sk-estimator fitted sk-toggleable\"><input class=\"sk-toggleable__control sk-hidden--visually\" id=\"sk-estimator-id-9\" type=\"checkbox\" ><label for=\"sk-estimator-id-9\" class=\"sk-toggleable__label fitted sk-toggleable__label-arrow fitted\">CatBoostRegressor</label><div class=\"sk-toggleable__content fitted\"><pre>&lt;catboost.core.CatBoostRegressor object at 0x000001F1458FF830&gt;</pre></div> </div></div></div></div></div><div class=\"sk-parallel-item\"><div class=\"sk-item\"><div class=\"sk-label-container\"><div class=\"sk-label fitted sk-toggleable\"><label>CatBoost Regressor 3</label></div></div><div class=\"sk-serial\"><div class=\"sk-item\"><div class=\"sk-estimator fitted sk-toggleable\"><input class=\"sk-toggleable__control sk-hidden--visually\" id=\"sk-estimator-id-10\" type=\"checkbox\" ><label for=\"sk-estimator-id-10\" class=\"sk-toggleable__label fitted sk-toggleable__label-arrow fitted\">CatBoostRegressor</label><div class=\"sk-toggleable__content fitted\"><pre>&lt;catboost.core.CatBoostRegressor object at 0x000001F1458FC320&gt;</pre></div> </div></div></div></div></div></div></div></div></div>"
      ],
      "text/plain": [
       "VotingRegressor(estimators=[('LightGBM Regressor 1',\n",
       "                             LGBMRegressor(colsample_bytree=0.9386112629191288,\n",
       "                                           learning_rate=0.09022305021868901,\n",
       "                                           max_depth=14, n_estimators=2678,\n",
       "                                           num_leaves=8,\n",
       "                                           reg_alpha=1.8264448933490005,\n",
       "                                           reg_lambda=33.209764960046115,\n",
       "                                           subsample=0.2539522467890303,\n",
       "                                           verbose=-1)),\n",
       "                            ('LightGBM Regressor 2',\n",
       "                             LGBMRegressor(colsample_bytree=0.581857652731719,...\n",
       "                            ('CatBoost Regressor 2',\n",
       "                             <catboost.core.CatBoostRegressor object at 0x000001F1458FF830>),\n",
       "                            ('CatBoost Regressor 3',\n",
       "                             <catboost.core.CatBoostRegressor object at 0x000001F1458FC320>)],\n",
       "                n_jobs=-1,\n",
       "                weights=[8.534309199664701, 6.651509086669025,\n",
       "                         7.022097542064461, 0.6293183086161971,\n",
       "                         1.0666908926330385, 0.8658434393843959,\n",
       "                         0.30104806155789965, 3.0320101228538925,\n",
       "                         1.6978086423033254])"
      ]
     },
     "execution_count": 48,
     "metadata": {},
     "output_type": "execute_result"
    }
   ],
   "source": [
    "weights = list(best_params_voting.values())\n",
    "\n",
    "voting = VotingRegressor(estimators=estimators,\n",
    "                         weights=weights,\n",
    "                         n_jobs=-1)\n",
    "\n",
    "voting.fit(X_train, y_train)"
   ]
  },
  {
   "cell_type": "markdown",
   "metadata": {},
   "source": [
    "## Predict"
   ]
  },
  {
   "cell_type": "code",
   "execution_count": 49,
   "metadata": {},
   "outputs": [],
   "source": [
    "data = test.drop(['id'], axis=1)\n",
    "test_scaled = scaler.transform(data)\n",
    "y_pred = np.expm1(voting.predict(test_scaled))"
   ]
  },
  {
   "cell_type": "code",
   "execution_count": 50,
   "metadata": {},
   "outputs": [
    {
     "data": {
      "text/html": [
       "<div>\n",
       "<style scoped>\n",
       "    .dataframe tbody tr th:only-of-type {\n",
       "        vertical-align: middle;\n",
       "    }\n",
       "\n",
       "    .dataframe tbody tr th {\n",
       "        vertical-align: top;\n",
       "    }\n",
       "\n",
       "    .dataframe thead th {\n",
       "        text-align: right;\n",
       "    }\n",
       "</style>\n",
       "<table border=\"1\" class=\"dataframe\">\n",
       "  <thead>\n",
       "    <tr style=\"text-align: right;\">\n",
       "      <th></th>\n",
       "      <th>id</th>\n",
       "      <th>Rings</th>\n",
       "    </tr>\n",
       "  </thead>\n",
       "  <tbody>\n",
       "    <tr>\n",
       "      <th>0</th>\n",
       "      <td>90615</td>\n",
       "      <td>9.537175</td>\n",
       "    </tr>\n",
       "    <tr>\n",
       "      <th>1</th>\n",
       "      <td>90616</td>\n",
       "      <td>9.777723</td>\n",
       "    </tr>\n",
       "    <tr>\n",
       "      <th>2</th>\n",
       "      <td>90617</td>\n",
       "      <td>9.931527</td>\n",
       "    </tr>\n",
       "    <tr>\n",
       "      <th>3</th>\n",
       "      <td>90618</td>\n",
       "      <td>10.515447</td>\n",
       "    </tr>\n",
       "    <tr>\n",
       "      <th>4</th>\n",
       "      <td>90619</td>\n",
       "      <td>7.587810</td>\n",
       "    </tr>\n",
       "  </tbody>\n",
       "</table>\n",
       "</div>"
      ],
      "text/plain": [
       "      id      Rings\n",
       "0  90615   9.537175\n",
       "1  90616   9.777723\n",
       "2  90617   9.931527\n",
       "3  90618  10.515447\n",
       "4  90619   7.587810"
      ]
     },
     "execution_count": 50,
     "metadata": {},
     "output_type": "execute_result"
    }
   ],
   "source": [
    "predictions_df = pd.DataFrame({'id': test['id'], 'Rings': y_pred})\n",
    "predictions_df.head()"
   ]
  },
  {
   "cell_type": "code",
   "execution_count": 51,
   "metadata": {},
   "outputs": [],
   "source": [
    "predictions_df.to_csv('submission.csv', index=False)"
   ]
  }
 ],
 "metadata": {
  "kernelspec": {
   "display_name": ".venv",
   "language": "python",
   "name": "python3"
  },
  "language_info": {
   "codemirror_mode": {
    "name": "ipython",
    "version": 3
   },
   "file_extension": ".py",
   "mimetype": "text/x-python",
   "name": "python",
   "nbconvert_exporter": "python",
   "pygments_lexer": "ipython3",
   "version": "3.12.0"
  }
 },
 "nbformat": 4,
 "nbformat_minor": 2
}
